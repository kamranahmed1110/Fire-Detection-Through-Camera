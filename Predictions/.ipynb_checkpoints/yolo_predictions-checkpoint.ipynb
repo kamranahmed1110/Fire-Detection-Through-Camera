{
 "cells": [
  {
   "cell_type": "code",
   "execution_count": 60,
   "id": "ece4446b-91a5-47ea-92af-5589e5b897cf",
   "metadata": {},
   "outputs": [],
   "source": [
    "import cv2\n",
    "import numpy as np\n",
    "import os\n",
    "import yaml\n",
    "from yaml.loader import SafeLoader"
   ]
  },
  {
   "cell_type": "code",
   "execution_count": 8,
   "id": "613d7a51-d5a7-4932-b5be-8833b5e57fe9",
   "metadata": {},
   "outputs": [
    {
     "name": "stdout",
     "output_type": "stream",
     "text": [
      "Requirement already satisfied: opencv-python in c:\\users\\ast\\desktop\\fyproject\\yolo_venv\\lib\\site-packages (4.9.0.80)\n",
      "Requirement already satisfied: numpy>=1.21.2 in c:\\users\\ast\\desktop\\fyproject\\yolo_venv\\lib\\site-packages (from opencv-python) (1.26.4)\n",
      "Note: you may need to restart the kernel to use updated packages.\n"
     ]
    },
    {
     "name": "stderr",
     "output_type": "stream",
     "text": [
      "\n",
      "[notice] A new release of pip is available: 23.2.1 -> 24.0\n",
      "[notice] To update, run: python.exe -m pip install --upgrade pip\n"
     ]
    }
   ],
   "source": [
    "pip install opencv-python\n"
   ]
  },
  {
   "cell_type": "code",
   "execution_count": 61,
   "id": "422ce73a-316c-4b06-8302-47a0fd507a81",
   "metadata": {},
   "outputs": [],
   "source": [
    "import cv2\n",
    "import numpy as np\n",
    "import os\n",
    "import yaml\n",
    "from yaml.loader import SafeLoader"
   ]
  },
  {
   "cell_type": "code",
   "execution_count": 62,
   "id": "4bee8be8-2064-4dea-b54b-ed2beb13ed22",
   "metadata": {},
   "outputs": [
    {
     "name": "stdout",
     "output_type": "stream",
     "text": [
      "['fire']\n"
     ]
    }
   ],
   "source": [
    "# load YAML \n",
    "with open('data.yaml',mode='r')as f:\n",
    "    data_yaml = yaml.load(f,Loader=SafeLoader)\n",
    "\n",
    "labels = data_yaml['names']\n",
    "print(labels)\n",
    "# Load yolo model"
   ]
  },
  {
   "cell_type": "code",
   "execution_count": 71,
   "id": "f877832b-1858-43e2-b643-9262c349c66d",
   "metadata": {},
   "outputs": [],
   "source": [
    "#load yolo model\n",
    "yolo = cv2.dnn.readNetFromONNX('./Model/weights/best.onnx')\n",
    "yolo.setPreferableBackend(cv2.dnn.DNN_BACKEND_OPENCV)\n",
    "yolo.setPreferableTarget(cv2.dnn.DNN_TARGET_CPU)"
   ]
  },
  {
   "cell_type": "code",
   "execution_count": 91,
   "id": "7cd7a20b-d8e3-4ec6-a9fe-ebb8a74ee5a9",
   "metadata": {
    "scrolled": true
   },
   "outputs": [],
   "source": [
    "# Load the image\n",
    "img = cv2.imread('./fireimages.jpg')\n",
    "image = img.copy()\n",
    "row, col, d = image.shape\n",
    "\n",
    "# Get yolo prediction from the image\n",
    "# Step 1: Convert image into a square image (array)\n",
    "max_rc = max(row, col)\n",
    "input_image = np.zeros((max_rc, max_rc, 3), dtype=np.uint8)\n",
    "input_image[0:row, 0:col] = image \n",
    "\n",
    "# Step 2: Get prediction from square array\n",
    "INPUT_WH_YOLO = 640\n",
    "blob = cv2.dnn.blobFromImage(input_image, 1/255, (INPUT_WH_YOLO, INPUT_WH_YOLO), swapRB=True, crop=False)\n",
    "# Assuming 'yolo' is your YOLO model initialized earlier\n",
    "yolo.setInput(blob)\n",
    "preds = yolo.forward()  # Detection or prediction from YOLO \n",
    "\n",
    "# Resize the image for display\n",
    "# Define the desired width for display\n",
    "display_width = 800\n",
    "# Calculate the scale factor for resizing\n",
    "scale_factor = display_width / input_image.shape[1]\n",
    "# Resize the image\n",
    "resized_image = cv2.resize(image, None, fx=scale_factor, fy=scale_factor)\n",
    "\n"
   ]
  },
  {
   "cell_type": "code",
   "execution_count": 92,
   "id": "b4d8e9f1-fd2b-43b8-ac65-0de91077b92d",
   "metadata": {},
   "outputs": [
    {
     "name": "stdout",
     "output_type": "stream",
     "text": [
      "(1, 25200, 6)\n"
     ]
    }
   ],
   "source": [
    "print(preds.shape)"
   ]
  },
  {
   "cell_type": "code",
   "execution_count": 93,
   "id": "15c9240a-e478-4bc2-b19a-105ce10eb703",
   "metadata": {},
   "outputs": [],
   "source": [
    "#non maximum supression\n",
    "#step 1 : filter detection based on confidence (0.4) and probability score (0.25)\n",
    "detections = preds[0]\n",
    "boxes = []\n",
    "confidences = []\n",
    "classes = []\n",
    "# width and height of the image(input_image)\n",
    "image_w, image_h = input_image.shape[:2]\n",
    "x_factor = image_w/INPUT_WH_YOLO\n",
    "y_factor = image_h/INPUT_WH_YOLO\n",
    "\n",
    "for i in range(len(detections)):\n",
    "    row = detections[i]\n",
    "    confidence = row[4] #confidence of detection an object\n",
    "    if confidence > 0.4:\n",
    "        class_score = row[5:].max() # maximum probability of the object \n",
    "        class_id = row[5:].argmax() # get the index position at which max probability occur\n",
    "        if class_score > 0.25:\n",
    "            cx,cy,w,h = row[0:4]\n",
    "            #construct bounding from four values\n",
    "            #left top width height\n",
    "            left = int((cx - 0.5*w)*x_factor)\n",
    "            top = int((cy - 0.5*h)*y_factor)\n",
    "            width = int(w*x_factor)\n",
    "            height = int(h*y_factor)\n",
    "            \n",
    "            box = np.array([left,top,width,height])\n",
    "            \n",
    "            #append values into the list\n",
    "            confidences.append(confidence)\n",
    "            boxes.append(box)\n",
    "            classes.append(class_id)\n",
    "\n",
    "#clean\n",
    "boxes_np = np.array(boxes).tolist()\n",
    "confidences_np = np.array(confidences).tolist()\n",
    "\n",
    "index = cv2.dnn.NMSBoxes(boxes_np,confidences_np,0.25,0.45).flatten()\n",
    "# Perform non-maximum suppression\n",
    "#indices = cv2.dnn.NMSBoxes(boxes_np, confidences_np, 0.25, 0.45)\n",
    "\n",
    "# Flatten the indices if needed\n",
    "#indices = np.array(indices).flatten()\n",
    "\n",
    "# Now, 'indices' contains the indices of the boxes to keep after non-maximum suppression\n",
    "\n",
    "#non maximum \n",
    "#index = cv2.dnn.NMSBoxes(boxes_np,confidences_np,0.25,0.45).flatten()\n"
   ]
  },
  {
   "cell_type": "code",
   "execution_count": 94,
   "id": "50984434-60cf-4fd3-a382-ba5ba503d26f",
   "metadata": {},
   "outputs": [
    {
     "data": {
      "text/plain": [
       "1"
      ]
     },
     "execution_count": 94,
     "metadata": {},
     "output_type": "execute_result"
    }
   ],
   "source": [
    "len(index)"
   ]
  },
  {
   "cell_type": "code",
   "execution_count": 95,
   "id": "eb703967-d71a-45b3-9e6e-a809c07fd4e2",
   "metadata": {},
   "outputs": [
    {
     "name": "stdout",
     "output_type": "stream",
     "text": [
      "fire:44%\n"
     ]
    }
   ],
   "source": [
    "for ind in index:\n",
    "    #extract bounding boxes\n",
    "    x,y,w,h = boxes_np[ind]\n",
    "    #remove the below code\n",
    "    bb_conf = int(confidences_np[ind]*100)\n",
    "    classes_id = classes[ind]\n",
    "    class_name = labels[classes_id]\n",
    "    text = f'{class_name}:{bb_conf}%'\n",
    "    print(text)\n",
    "    cv2.rectangle(image,(x,y),(x+w,y+h),(0,255,0),2) \n",
    "    cv2.rectangle(image,(x,y-30),(x+w,y),(255,255,255),-1)\n",
    "    cv2.putText(image,text,(x,y-10),cv2.FONT_HERSHEY_PLAIN,0.7,(0,0,0),1)\n"
   ]
  },
  {
   "cell_type": "code",
   "execution_count": 97,
   "id": "f5147ef1-41a8-4b99-9a93-16482282d38e",
   "metadata": {},
   "outputs": [],
   "source": [
    "cv2.imshow('original',img)\n",
    "cv2.imshow('yolo_prediction',image)\n",
    "cv2.waitKey(0)\n",
    "cv2.destroyAllWindows()"
   ]
  },
  {
   "cell_type": "code",
   "execution_count": null,
   "id": "90542c26-fa3d-49e8-ac40-a35ee764ea75",
   "metadata": {},
   "outputs": [],
   "source": []
  },
  {
   "cell_type": "code",
   "execution_count": null,
   "id": "2451a0fc-ca3c-4db0-8d03-dffef9817ec7",
   "metadata": {},
   "outputs": [],
   "source": []
  }
 ],
 "metadata": {
  "kernelspec": {
   "display_name": "Python 3 (ipykernel)",
   "language": "python",
   "name": "python3"
  },
  "language_info": {
   "codemirror_mode": {
    "name": "ipython",
    "version": 3
   },
   "file_extension": ".py",
   "mimetype": "text/x-python",
   "name": "python",
   "nbconvert_exporter": "python",
   "pygments_lexer": "ipython3",
   "version": "3.12.1"
  }
 },
 "nbformat": 4,
 "nbformat_minor": 5
}
